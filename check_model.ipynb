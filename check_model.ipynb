{
 "cells": [
  {
   "cell_type": "code",
   "execution_count": 10,
   "metadata": {},
   "outputs": [],
   "source": [
    "import torch\n",
    "import sys\n",
    "sys.path.append('/Users/david/Desktop/CSE60657/Project/NLP_project/')\n",
    "#import layers\n",
    "#import seqlabel\n",
    "from SpanBERT import*\n",
    "import utils\n",
    "model = torch.load(\"./best_model.pt\", map_location=torch.device('cpu'))"
   ]
  },
  {
   "cell_type": "code",
   "execution_count": 11,
   "metadata": {},
   "outputs": [],
   "source": [
    "annotation_dict = utils.load_data(\"./Data/qed-dev.jsonlines\")\n",
    "M = annotation_dict[-4340755100872459608]\n",
    "text = M.passage\n",
    "question = M.question\n",
    "coreference = M.aligned_nps\n",
    "answer_ls = M.answer\n",
    "selected_sent = M.selected_sent\n",
    "sentence_starts = []\n",
    "if len(M.sentence_starts) == 0:\n",
    "    sentence_starts = [0, selected_sent['end']]\n",
    "else: \n",
    "    sentence_starts = M.sentence_starts\n",
    "\n",
    "true_sent_idx = utils.get_true_sent_idx(selected_sent, sentence_starts)\n",
    "sents_ls = utils.separate_sents(text, sentence_starts)\n",
    "\n",
    "encoded_text = model.tokenize(text)\n",
    "encoded_question = model.tokenize(question)\n",
    "\n",
    "question_span = utils.get_encoded_span(question, coreference, type=0)\n",
    "encoded_question_span = model.tokenize(question_span)\n",
    "question_start, question_end = find_start_end_pos(encoded_question, encoded_question_span)\n",
    "\n",
    "text_span = utils.get_encoded_span(text, coreference, type=1)\n",
    "encoded_text_span = model.tokenize(text_span)\n",
    "encoded_text = model.tokenize(text)\n",
    "text_start, text_end = find_start_end_pos(encoded_text, encoded_text_span)\n",
    "\n",
    "answer_span = utils.get_answer_span(text, answer_ls)\n",
    "encoded_answer_span = model.tokenize(answer_span)\n",
    "answer_start, answer_end = find_start_end_pos(encoded_text, encoded_answer_span)\n",
    "\n",
    "encoded_sents_ls = []\n",
    "for sents in sents_ls:\n",
    "    encoded_sent = model.tokenize(sents)\n",
    "    encoded_sents_ls.append(encoded_sent)\n"
   ]
  },
  {
   "cell_type": "code",
   "execution_count": 18,
   "metadata": {},
   "outputs": [
    {
     "data": {
      "text/plain": [
       "'what does hp mean in war and order'"
      ]
     },
     "execution_count": 18,
     "metadata": {},
     "output_type": "execute_result"
    }
   ],
   "source": [
    "M.question"
   ]
  },
  {
   "cell_type": "code",
   "execution_count": null,
   "metadata": {},
   "outputs": [],
   "source": [
    "M.selected_sent"
   ]
  },
  {
   "cell_type": "code",
   "execution_count": 20,
   "metadata": {},
   "outputs": [
    {
     "data": {
      "text/plain": [
       "'Health or vitality is an attribute assigned to entities , such as the player character , enemies and objects within a role - playing or video game , that indicates its state in combat . Health is usually measured in hit points or health points , shortened to HP . When the HP of a player character reaches zero , the player may lose a life or their character might become incapacitated or die . When the HP of an enemy reaches zero , it may be defeated or die and the player is usually rewarded in some way .'"
      ]
     },
     "execution_count": 20,
     "metadata": {},
     "output_type": "execute_result"
    }
   ],
   "source": [
    "M.passage"
   ]
  },
  {
   "cell_type": "code",
   "execution_count": 21,
   "metadata": {},
   "outputs": [
    {
     "data": {
      "text/plain": [
       "[Entity(start_offset=216, end_offset=243, type='context', text='hit points or health points', normalized_text='hit points or health points')]"
      ]
     },
     "execution_count": 21,
     "metadata": {},
     "output_type": "execute_result"
    }
   ],
   "source": [
    "M.answer"
   ]
  },
  {
   "cell_type": "code",
   "execution_count": 12,
   "metadata": {},
   "outputs": [
    {
     "data": {
      "text/plain": [
       "[(Entity(start_offset=10, end_offset=12, type='question', text='hp', normalized_text='hp'),\n",
       "  Entity(start_offset=259, end_offset=261, type='context', text='HP', normalized_text='hp'))]"
      ]
     },
     "execution_count": 12,
     "metadata": {},
     "output_type": "execute_result"
    }
   ],
   "source": [
    "M.aligned_nps"
   ]
  },
  {
   "cell_type": "code",
   "execution_count": 13,
   "metadata": {},
   "outputs": [
    {
     "data": {
      "text/plain": [
       "'Health or vitality is an attribute assigned to entities , such as the player character , enemies and objects within a role - playing or video game , that indicates its state in combat . Health is usually measured in hit points or health points , shortened to HP . When the HP of a player character reaches zero , the player may lose a life or their character might become incapacitated or die . When the HP of an enemy reaches zero , it may be defeated or die and the player is usually rewarded in some way .'"
      ]
     },
     "execution_count": 13,
     "metadata": {},
     "output_type": "execute_result"
    }
   ],
   "source": [
    "M.passage"
   ]
  },
  {
   "cell_type": "code",
   "execution_count": 14,
   "metadata": {},
   "outputs": [],
   "source": [
    "coreference_span, coreference_pos = model.find_most_similar_span(encoded_text, encoded_question, question_start, question_end, window_size=2)\n",
    "f1_score, answer_span, answer_pos = model.find_answer(encoded_text, encoded_question, answer_start, answer_end)\n",
    "val = model.find_sentence(encoded_question, encoded_sents_ls, true_sent_idx)"
   ]
  },
  {
   "cell_type": "code",
   "execution_count": 15,
   "metadata": {},
   "outputs": [
    {
     "data": {
      "text/plain": [
       "'hp of a'"
      ]
     },
     "execution_count": 15,
     "metadata": {},
     "output_type": "execute_result"
    }
   ],
   "source": [
    "coreference_span"
   ]
  },
  {
   "cell_type": "code",
   "execution_count": 16,
   "metadata": {},
   "outputs": [
    {
     "data": {
      "text/plain": [
       "(53, 56)"
      ]
     },
     "execution_count": 16,
     "metadata": {},
     "output_type": "execute_result"
    }
   ],
   "source": [
    "coreference_pos"
   ]
  },
  {
   "cell_type": "code",
   "execution_count": 17,
   "metadata": {},
   "outputs": [
    {
     "data": {
      "text/plain": [
       "'might become incapacitated or die. when the hp of an enemy reaches zero, it may be defeated or die and the player is usually rewarded'"
      ]
     },
     "execution_count": 17,
     "metadata": {},
     "output_type": "execute_result"
    }
   ],
   "source": [
    "answer_span"
   ]
  },
  {
   "cell_type": "code",
   "execution_count": 19,
   "metadata": {},
   "outputs": [
    {
     "data": {
      "text/plain": [
       "(1, 1)"
      ]
     },
     "execution_count": 19,
     "metadata": {},
     "output_type": "execute_result"
    }
   ],
   "source": [
    "def find_sentence(model, encoded_question, encoded_sents_ls, true_sent_idx):\n",
    "    question_embeddings = model.model(**encoded_question).last_hidden_state\n",
    "    sents_embedding_ls = []\n",
    "    for sents in encoded_sents_ls:\n",
    "        sent_embedding = model.model(**sents).last_hidden_state\n",
    "        sents_embedding_ls.append(sent_embedding)\n",
    "    _, similarity_scores = model.sents_cos_similarity(question_embeddings, sents_embedding_ls, true_sent_idx)\n",
    "    pred_idx = similarity_scores.argmax().item()\n",
    "    return (pred_idx, true_sent_idx)\n",
    "\n",
    "selected_sent = M.selected_sent\n",
    "sentence_starts = []\n",
    "if len(M.sentence_starts) == 0:\n",
    "    sentence_starts = [0, selected_sent['end']]\n",
    "else: \n",
    "    sentence_starts = M.sentence_starts\n",
    "true_sent_idx = utils.get_true_sent_idx(selected_sent, sentence_starts)\n",
    "\n",
    "find_sentence(model, encoded_question, encoded_sents_ls, true_sent_idx)"
   ]
  },
  {
   "cell_type": "code",
   "execution_count": null,
   "metadata": {},
   "outputs": [],
   "source": []
  }
 ],
 "metadata": {
  "kernelspec": {
   "display_name": "myenv",
   "language": "python",
   "name": "python3"
  },
  "language_info": {
   "codemirror_mode": {
    "name": "ipython",
    "version": 3
   },
   "file_extension": ".py",
   "mimetype": "text/x-python",
   "name": "python",
   "nbconvert_exporter": "python",
   "pygments_lexer": "ipython3",
   "version": "3.10.8"
  }
 },
 "nbformat": 4,
 "nbformat_minor": 2
}
